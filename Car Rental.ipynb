{
 "cells": [
  {
   "cell_type": "code",
   "execution_count": 3,
   "id": "45f1a080",
   "metadata": {},
   "outputs": [],
   "source": [
    "#importing libraries\n",
    "\n",
    "import pandas as pd\n",
    "import numpy as np\n",
    "import seaborn as sns\n",
    "import matplotlib.pyplot as plt\n",
    "\n",
    "import warnings\n",
    "warnings.filterwarnings('always')\n",
    "warnings.filterwarnings('ignore')\n",
    "\n",
    "from sklearn.model_selection import train_test_split\n",
    "from sklearn import metrics\n",
    "from sklearn.metrics import r2_score"
   ]
  },
  {
   "cell_type": "code",
   "execution_count": 4,
   "id": "00efbaa0",
   "metadata": {},
   "outputs": [],
   "source": [
    "#loading datasets\n",
    "train = pd.read_csv('train_prediction.csv')\n",
    "test = pd.read_csv('test_prediction.csv')"
   ]
  },
  {
   "cell_type": "code",
   "execution_count": 5,
   "id": "125ff808",
   "metadata": {},
   "outputs": [
    {
     "data": {
      "text/html": [
       "<div>\n",
       "<style scoped>\n",
       "    .dataframe tbody tr th:only-of-type {\n",
       "        vertical-align: middle;\n",
       "    }\n",
       "\n",
       "    .dataframe tbody tr th {\n",
       "        vertical-align: top;\n",
       "    }\n",
       "\n",
       "    .dataframe thead th {\n",
       "        text-align: right;\n",
       "    }\n",
       "</style>\n",
       "<table border=\"1\" class=\"dataframe\">\n",
       "  <thead>\n",
       "    <tr style=\"text-align: right;\">\n",
       "      <th></th>\n",
       "      <th>date</th>\n",
       "      <th>hour</th>\n",
       "      <th>demand</th>\n",
       "    </tr>\n",
       "  </thead>\n",
       "  <tbody>\n",
       "    <tr>\n",
       "      <th>18242</th>\n",
       "      <td>2021-02-28</td>\n",
       "      <td>19</td>\n",
       "      <td>95</td>\n",
       "    </tr>\n",
       "    <tr>\n",
       "      <th>18243</th>\n",
       "      <td>2021-02-28</td>\n",
       "      <td>20</td>\n",
       "      <td>88</td>\n",
       "    </tr>\n",
       "    <tr>\n",
       "      <th>18244</th>\n",
       "      <td>2021-02-28</td>\n",
       "      <td>21</td>\n",
       "      <td>39</td>\n",
       "    </tr>\n",
       "    <tr>\n",
       "      <th>18245</th>\n",
       "      <td>2021-02-28</td>\n",
       "      <td>22</td>\n",
       "      <td>104</td>\n",
       "    </tr>\n",
       "    <tr>\n",
       "      <th>18246</th>\n",
       "      <td>2021-02-28</td>\n",
       "      <td>23</td>\n",
       "      <td>85</td>\n",
       "    </tr>\n",
       "  </tbody>\n",
       "</table>\n",
       "</div>"
      ],
      "text/plain": [
       "             date  hour  demand\n",
       "18242  2021-02-28    19      95\n",
       "18243  2021-02-28    20      88\n",
       "18244  2021-02-28    21      39\n",
       "18245  2021-02-28    22     104\n",
       "18246  2021-02-28    23      85"
      ]
     },
     "execution_count": 5,
     "metadata": {},
     "output_type": "execute_result"
    }
   ],
   "source": [
    "train.tail()"
   ]
  },
  {
   "cell_type": "code",
   "execution_count": 6,
   "id": "446a7d74",
   "metadata": {},
   "outputs": [
    {
     "data": {
      "text/html": [
       "<div>\n",
       "<style scoped>\n",
       "    .dataframe tbody tr th:only-of-type {\n",
       "        vertical-align: middle;\n",
       "    }\n",
       "\n",
       "    .dataframe tbody tr th {\n",
       "        vertical-align: top;\n",
       "    }\n",
       "\n",
       "    .dataframe thead th {\n",
       "        text-align: right;\n",
       "    }\n",
       "</style>\n",
       "<table border=\"1\" class=\"dataframe\">\n",
       "  <thead>\n",
       "    <tr style=\"text-align: right;\">\n",
       "      <th></th>\n",
       "      <th>date</th>\n",
       "      <th>hour</th>\n",
       "      <th>demand</th>\n",
       "    </tr>\n",
       "  </thead>\n",
       "  <tbody>\n",
       "    <tr>\n",
       "      <th>0</th>\n",
       "      <td>2018-08-18</td>\n",
       "      <td>9</td>\n",
       "      <td>91</td>\n",
       "    </tr>\n",
       "    <tr>\n",
       "      <th>1</th>\n",
       "      <td>2018-08-18</td>\n",
       "      <td>10</td>\n",
       "      <td>21</td>\n",
       "    </tr>\n",
       "    <tr>\n",
       "      <th>2</th>\n",
       "      <td>2018-08-18</td>\n",
       "      <td>13</td>\n",
       "      <td>23</td>\n",
       "    </tr>\n",
       "    <tr>\n",
       "      <th>3</th>\n",
       "      <td>2018-08-18</td>\n",
       "      <td>14</td>\n",
       "      <td>104</td>\n",
       "    </tr>\n",
       "    <tr>\n",
       "      <th>4</th>\n",
       "      <td>2018-08-18</td>\n",
       "      <td>15</td>\n",
       "      <td>81</td>\n",
       "    </tr>\n",
       "  </tbody>\n",
       "</table>\n",
       "</div>"
      ],
      "text/plain": [
       "         date  hour  demand\n",
       "0  2018-08-18     9      91\n",
       "1  2018-08-18    10      21\n",
       "2  2018-08-18    13      23\n",
       "3  2018-08-18    14     104\n",
       "4  2018-08-18    15      81"
      ]
     },
     "execution_count": 6,
     "metadata": {},
     "output_type": "execute_result"
    }
   ],
   "source": [
    "train.head()"
   ]
  },
  {
   "cell_type": "code",
   "execution_count": 7,
   "id": "8a035e86",
   "metadata": {},
   "outputs": [
    {
     "data": {
      "text/plain": [
       "(18247, 3)"
      ]
     },
     "execution_count": 7,
     "metadata": {},
     "output_type": "execute_result"
    }
   ],
   "source": [
    "train.shape"
   ]
  },
  {
   "cell_type": "code",
   "execution_count": 8,
   "id": "0d091042",
   "metadata": {},
   "outputs": [
    {
     "data": {
      "text/plain": [
       "2021-02-28    24\n",
       "2020-06-08    24\n",
       "2018-11-05    24\n",
       "2020-04-05    24\n",
       "2021-01-08    24\n",
       "              ..\n",
       "2019-09-07    11\n",
       "2018-09-03    10\n",
       "2018-09-25     9\n",
       "2019-08-29     9\n",
       "2018-09-30     7\n",
       "Name: date, Length: 895, dtype: int64"
      ]
     },
     "execution_count": 8,
     "metadata": {},
     "output_type": "execute_result"
    }
   ],
   "source": [
    "train['date'].value_counts()"
   ]
  },
  {
   "cell_type": "code",
   "execution_count": 9,
   "id": "fd1a7500",
   "metadata": {},
   "outputs": [
    {
     "name": "stdout",
     "output_type": "stream",
     "text": [
      "<class 'pandas.core.frame.DataFrame'>\n",
      "RangeIndex: 18247 entries, 0 to 18246\n",
      "Data columns (total 3 columns):\n",
      " #   Column  Non-Null Count  Dtype \n",
      "---  ------  --------------  ----- \n",
      " 0   date    18247 non-null  object\n",
      " 1   hour    18247 non-null  int64 \n",
      " 2   demand  18247 non-null  int64 \n",
      "dtypes: int64(2), object(1)\n",
      "memory usage: 427.8+ KB\n"
     ]
    }
   ],
   "source": [
    "train.info()"
   ]
  },
  {
   "cell_type": "code",
   "execution_count": 10,
   "id": "bc575543",
   "metadata": {},
   "outputs": [
    {
     "data": {
      "text/plain": [
       "<AxesSubplot:xlabel='hour', ylabel='demand'>"
      ]
     },
     "execution_count": 10,
     "metadata": {},
     "output_type": "execute_result"
    },
    {
     "data": {
      "image/png": "[encoded data removed]",
      "text/plain": [
       "<Figure size 720x288 with 1 Axes>"
      ]
     },
     "metadata": {
      "needs_background": "light"
     },
     "output_type": "display_data"
    }
   ],
   "source": [
    "#Set the width and height of the figure\n",
    "plt.figure(figsize=(10,4))\n",
    "#Making copy of train data\n",
    "temp = train.copy()\n",
    "#Plotting a barplot between Income and Churn possibility\n",
    "sns.barplot(x='hour',y='demand', data= temp)"
   ]
  },
  {
   "cell_type": "markdown",
   "id": "7e500178",
   "metadata": {},
   "source": [
    "The demand for rentals is more post 9 AM."
   ]
  },
  {
   "cell_type": "code",
   "execution_count": 11,
   "id": "0670d16f",
   "metadata": {},
   "outputs": [
    {
     "data": {
      "text/plain": [
       "<AxesSubplot:xlabel='date', ylabel='count'>"
      ]
     },
     "execution_count": 11,
     "metadata": {},
     "output_type": "execute_result"
    },
    {
     "data": {
      "image/png": "[encoded data removed]",
      "text/plain": [
       "<Figure size 1080x288 with 1 Axes>"
      ]
     },
     "metadata": {
      "needs_background": "light"
     },
     "output_type": "display_data"
    }
   ],
   "source": [
    "#Set the width and height of the figure\n",
    "plt.figure(figsize=(15,4))\n",
    "sns.countplot('date', data= temp, palette= 'summer')"
   ]
  },
  {
   "cell_type": "code",
   "execution_count": 12,
   "id": "64314ba1",
   "metadata": {},
   "outputs": [],
   "source": [
    "#Splitting the date column into year, month, day and weekday columns. #Feature engineering\n",
    "temp['date'] = pd.to_datetime(temp['date'],errors='coerce')\n",
    "temp['year'] = temp['date'].dt.year\n",
    "temp['month'] = temp['date'].dt.month\n",
    "temp['day'] = temp['date'].dt.day\n",
    "temp['weekday'] = temp[\"date\"].dt.weekday"
   ]
  },
  {
   "cell_type": "code",
   "execution_count": 13,
   "id": "2bb50fe2",
   "metadata": {},
   "outputs": [
    {
     "name": "stdout",
     "output_type": "stream",
     "text": [
      "<class 'pandas.core.frame.DataFrame'>\n",
      "RangeIndex: 18247 entries, 0 to 18246\n",
      "Data columns (total 7 columns):\n",
      " #   Column   Non-Null Count  Dtype         \n",
      "---  ------   --------------  -----         \n",
      " 0   date     18247 non-null  datetime64[ns]\n",
      " 1   hour     18247 non-null  int64         \n",
      " 2   demand   18247 non-null  int64         \n",
      " 3   year     18247 non-null  int64         \n",
      " 4   month    18247 non-null  int64         \n",
      " 5   day      18247 non-null  int64         \n",
      " 6   weekday  18247 non-null  int64         \n",
      "dtypes: datetime64[ns](1), int64(6)\n",
      "memory usage: 998.0 KB\n"
     ]
    }
   ],
   "source": [
    "temp.info()"
   ]
  },
  {
   "cell_type": "code",
   "execution_count": 14,
   "id": "b7c2b127",
   "metadata": {},
   "outputs": [
    {
     "data": {
      "text/plain": [
       "<AxesSubplot:xlabel='weekday', ylabel='count'>"
      ]
     },
     "execution_count": 14,
     "metadata": {},
     "output_type": "execute_result"
    },
    {
     "data": {
      "image/png": "[encoded data removed]",
      "text/plain": [
       "<Figure size 1080x288 with 1 Axes>"
      ]
     },
     "metadata": {
      "needs_background": "light"
     },
     "output_type": "display_data"
    }
   ],
   "source": [
    "plt.figure(figsize=(15,4))\n",
    "sns.countplot(temp['weekday'], data= temp, palette= 'summer')"
   ]
  },
  {
   "cell_type": "code",
   "execution_count": 15,
   "id": "569f1695",
   "metadata": {},
   "outputs": [],
   "source": [
    "# # Find entries in Jan 2019\n",
    "# temp2019 = temp[(temp['year'] == 2019) & (temp['month'] == 5)]\n",
    "# #Set the width and height of the figure\n",
    "# plt.figure(figsize=(15,4))\n",
    "# sns.countplot(temp2019['weekday'], data= temp2019, palette= 'summer')"
   ]
  },
  {
   "cell_type": "code",
   "execution_count": 16,
   "id": "b8ec1c5b",
   "metadata": {
    "scrolled": true
   },
   "outputs": [
    {
     "data": {
      "text/plain": [
       "<AxesSubplot:xlabel='month', ylabel='count'>"
      ]
     },
     "execution_count": 16,
     "metadata": {},
     "output_type": "execute_result"
    },
    {
     "data": {
      "image/png": "[encoded data removed]",
      "text/plain": [
       "<Figure size 1080x288 with 1 Axes>"
      ]
     },
     "metadata": {
      "needs_background": "light"
     },
     "output_type": "display_data"
    }
   ],
   "source": [
    "#Set the width and height of the figure\n",
    "plt.figure(figsize=(15,4))\n",
    "sns.countplot(temp['month'], data= temp, palette= 'summer')"
   ]
  },
  {
   "cell_type": "code",
   "execution_count": 17,
   "id": "ae71e165",
   "metadata": {},
   "outputs": [],
   "source": [
    "# #Set the width and height of the figure\n",
    "# plt.figure(figsize=(15,4))\n",
    "# sns.countplot(temp['year'], data= temp, palette= 'winter')"
   ]
  },
  {
   "cell_type": "code",
   "execution_count": 18,
   "id": "37dd06c1",
   "metadata": {},
   "outputs": [
    {
     "data": {
      "image/png": "[encoded data removed]",
      "text/plain": [
       "<Figure size 1080x576 with 2 Axes>"
      ]
     },
     "metadata": {
      "needs_background": "light"
     },
     "output_type": "display_data"
    }
   ],
   "source": [
    "#Correlation matrix with heatmap\n",
    "corr_matrix = temp.corr()\n",
    "f, ax1 = plt.subplots(figsize=(15,8)) \n",
    "ax1=sns.heatmap(abs(corr_matrix),annot=True,cmap='coolwarm',vmax = 0.9);"
   ]
  },
  {
   "cell_type": "code",
   "execution_count": 19,
   "id": "3a2fa050",
   "metadata": {},
   "outputs": [
    {
     "data": {
      "image/png": "[encoded data removed]",
      "text/plain": [
       "<Figure size 432x288 with 2 Axes>"
      ]
     },
     "metadata": {
      "needs_background": "light"
     },
     "output_type": "display_data"
    }
   ],
   "source": [
    "#Checking outliers\n",
    "def plot(temp,col):\n",
    "    fig,(ax1,ax2)= plt.subplots(2,1)\n",
    "    sns.distplot(temp[col],ax=ax1)\n",
    "    sns.boxplot(temp[col],ax=ax2)\n",
    "    \n",
    "plot(temp,'demand')"
   ]
  },
  {
   "cell_type": "code",
   "execution_count": 20,
   "id": "5582d0db",
   "metadata": {},
   "outputs": [],
   "source": [
    "Date = temp['date']"
   ]
  },
  {
   "cell_type": "code",
   "execution_count": 21,
   "id": "1cb19fce",
   "metadata": {},
   "outputs": [],
   "source": [
    "# Seperate Features and Target\n",
    "X = temp.drop(['demand','date'], axis=1)\n",
    "y = temp['demand']"
   ]
  },
  {
   "cell_type": "code",
   "execution_count": 22,
   "id": "4da076d3",
   "metadata": {},
   "outputs": [
    {
     "name": "stdout",
     "output_type": "stream",
     "text": [
      "0.8\n",
      "0.2\n"
     ]
    }
   ],
   "source": [
    "#splitting 20% data for validation\n",
    "X_train,X_valid,y_train,y_valid = train_test_split(X,y,test_size=0.2,random_state=22)\n",
    "\n",
    "\n",
    "#Checking the dataset split ratio\n",
    "for dataset in [y_train, y_valid]:\n",
    "    print(round(len(dataset)/len(y),2))"
   ]
  },
  {
   "cell_type": "code",
   "execution_count": 61,
   "id": "fc964f18",
   "metadata": {},
   "outputs": [],
   "source": [
    "import xgboost as xgb\n",
    "import lightgbm as lgb\n",
    "\n",
    "# algos = [xgb.XGBRegressor(eta = 0.09, subsample = 0.8,  eval_metric = 'rmse', seed = 4)]\n",
    "# names = ['XGBoost']\n",
    "algos = [lgb.LGBMRegressor(learning_rate = 0.14, seed = 4)]\n",
    "names = ['LGBM']\n",
    "\n",
    "rmse_list = []\n",
    "r2_list = []"
   ]
  },
  {
   "cell_type": "code",
   "execution_count": 62,
   "id": "cb024e79",
   "metadata": {},
   "outputs": [
    {
     "name": "stdout",
     "output_type": "stream",
     "text": [
      "<class 'pandas.core.frame.DataFrame'>\n",
      "RangeIndex: 18247 entries, 0 to 18246\n",
      "Data columns (total 5 columns):\n",
      " #   Column   Non-Null Count  Dtype\n",
      "---  ------   --------------  -----\n",
      " 0   hour     18247 non-null  int64\n",
      " 1   year     18247 non-null  int64\n",
      " 2   month    18247 non-null  int64\n",
      " 3   day      18247 non-null  int64\n",
      " 4   weekday  18247 non-null  int64\n",
      "dtypes: int64(5)\n",
      "memory usage: 712.9 KB\n"
     ]
    }
   ],
   "source": [
    "X.info()"
   ]
  },
  {
   "cell_type": "code",
   "execution_count": 63,
   "id": "d3708abc",
   "metadata": {},
   "outputs": [
    {
     "name": "stdout",
     "output_type": "stream",
     "text": [
      "31.326334623679898\n",
      "0.40030515770280006\n"
     ]
    }
   ],
   "source": [
    "for name in algos:\n",
    "    model = name\n",
    "    model.fit(X_train,y_train)\n",
    "    y_pred = model.predict(X_valid)\n",
    "    MSE= metrics.mean_squared_error(y_valid,y_pred)\n",
    "    rmse = np.sqrt(MSE)\n",
    "    print(rmse)\n",
    "    rmse_list.append(rmse)\n",
    "    score = r2_score(y_valid,y_pred)\n",
    "    print(score)\n",
    "    r2_list.append(score)"
   ]
  },
  {
   "cell_type": "code",
   "execution_count": 60,
   "id": "d3dd0f89",
   "metadata": {},
   "outputs": [
    {
     "data": {
      "text/html": [
       "<div>\n",
       "<style scoped>\n",
       "    .dataframe tbody tr th:only-of-type {\n",
       "        vertical-align: middle;\n",
       "    }\n",
       "\n",
       "    .dataframe tbody tr th {\n",
       "        vertical-align: top;\n",
       "    }\n",
       "\n",
       "    .dataframe thead th {\n",
       "        text-align: right;\n",
       "    }\n",
       "</style>\n",
       "<table border=\"1\" class=\"dataframe\">\n",
       "  <thead>\n",
       "    <tr style=\"text-align: right;\">\n",
       "      <th></th>\n",
       "      <th>Model</th>\n",
       "      <th>RMSE</th>\n",
       "      <th>R2 Score</th>\n",
       "    </tr>\n",
       "  </thead>\n",
       "  <tbody>\n",
       "    <tr>\n",
       "      <th>0</th>\n",
       "      <td>LGBM</td>\n",
       "      <td>32.317418</td>\n",
       "      <td>0.361759</td>\n",
       "    </tr>\n",
       "  </tbody>\n",
       "</table>\n",
       "</div>"
      ],
      "text/plain": [
       "  Model       RMSE  R2 Score\n",
       "0  LGBM  32.317418  0.361759"
      ]
     },
     "execution_count": 60,
     "metadata": {},
     "output_type": "execute_result"
    }
   ],
   "source": [
    "evaluation = pd.DataFrame({'Model': names,\n",
    "                           'RMSE': rmse_list, 'R2 Score':r2_list})\n",
    "evaluation"
   ]
  },
  {
   "cell_type": "code",
   "execution_count": null,
   "id": "3deb44eb",
   "metadata": {},
   "outputs": [],
   "source": [
    "plt.figure(figsize=(10,10))\n",
    "leng = [i for i in range(len(y_pred))]\n",
    "plt.scatter(leng, y_valid, c='crimson')\n",
    "plt.scatter(leng, y_pred, c='blue')\n",
    "plt.yscale('log')\n",
    "plt.xscale('log')\n",
    "\n",
    "p1 = max(max(y_pred), max(y))\n",
    "p2 = min(min(y_pred), min(y))\n",
    "# plt.plot([p1, p2], [p1, p2], 'b-')\n",
    "plt.xlabel('True Values', fontsize=15)\n",
    "plt.ylabel('Predictions', fontsize=15)\n",
    "plt.axis('equal')\n",
    "plt.show()"
   ]
  },
  {
   "cell_type": "code",
   "execution_count": null,
   "id": "4f6539b5",
   "metadata": {},
   "outputs": [],
   "source": [
    "test.head()"
   ]
  },
  {
   "cell_type": "code",
   "execution_count": null,
   "id": "4905575f",
   "metadata": {},
   "outputs": [],
   "source": [
    "test['date'] = pd.to_datetime(test['date'],errors='coerce')\n",
    "test['year'] = test['date'].dt.year\n",
    "test['month'] = test['date'].dt.month\n",
    "test['day'] = test['date'].dt.day\n",
    "test[\"weekday\"] = test[\"date\"].dt.weekday"
   ]
  },
  {
   "cell_type": "code",
   "execution_count": null,
   "id": "509d8ffd",
   "metadata": {},
   "outputs": [],
   "source": [
    "test.head()"
   ]
  },
  {
   "cell_type": "code",
   "execution_count": null,
   "id": "b3e89a3a",
   "metadata": {},
   "outputs": [],
   "source": [
    "test= test.drop(columns= ['date'],axis=1)"
   ]
  },
  {
   "cell_type": "code",
   "execution_count": null,
   "id": "deee20d3",
   "metadata": {},
   "outputs": [],
   "source": [
    "Hours = test['hour']"
   ]
  },
  {
   "cell_type": "code",
   "execution_count": null,
   "id": "d68d390b",
   "metadata": {},
   "outputs": [],
   "source": [
    "test"
   ]
  },
  {
   "cell_type": "code",
   "execution_count": null,
   "id": "21fb0ff1",
   "metadata": {},
   "outputs": [],
   "source": [
    "submission = pd.read_csv('sample_prediction.csv')\n",
    "model = algos[0]\n",
    "model.fit(X, y)\n",
    "y_pred = model.predict(test)\n",
    "submission['demand'] = y_pred\n",
    "submit_test = pd.concat([Date,Hours,pd.DataFrame(y_pred)],axis=1)\n",
    "submit_test.columns = ['date','hours','demand']\n",
    "submission.to_csv('my_submission_lgbm.csv', index=False)"
   ]
  },
  {
   "cell_type": "code",
   "execution_count": null,
   "id": "9d307a1d",
   "metadata": {},
   "outputs": [],
   "source": []
  }
 ],
 "metadata": {
  "kernelspec": {
   "display_name": "Python 3 (ipykernel)",
   "language": "python",
   "name": "python3"
  },
  "language_info": {
   "codemirror_mode": {
    "name": "ipython",
    "version": 3
   },
   "file_extension": ".py",
   "mimetype": "text/x-python",
   "name": "python",
   "nbconvert_exporter": "python",
   "pygments_lexer": "ipython3",
   "version": "3.9.7"
  }
 },
 "nbformat": 4,
 "nbformat_minor": 5
}
